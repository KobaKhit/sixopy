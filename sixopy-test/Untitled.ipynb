{
 "cells": [
  {
   "cell_type": "code",
   "execution_count": 1,
   "metadata": {
    "collapsed": false
   },
   "outputs": [],
   "source": [
    "from sixopy.tw import Tw\n",
    "from sixopy.gr import Gr\n",
    "from sixopy.fb import Fb\n",
    "from sixopy.bq import bQ\n",
    "from google.cloud import bigquery\n",
    "import numpy as np\n",
    "import pandas as pd\n",
    "import os"
   ]
  },
  {
   "cell_type": "code",
   "execution_count": 2,
   "metadata": {
    "collapsed": false
   },
   "outputs": [],
   "source": [
    "m = pd.read_json('fb_posts.json',orient='records',dtype=False)\n",
    "m['created_date'] = m['created_time'].dt.strftime('%Y-%m-%d')\n",
    "# m['created_date'] = m['created_at'].dt.strftime('%Y-%m-%d')"
   ]
  },
  {
   "cell_type": "code",
   "execution_count": 3,
   "metadata": {
    "collapsed": false
   },
   "outputs": [
    {
     "data": {
      "text/plain": [
       "anger_reactions                                    int64\n",
       "caption                                           object\n",
       "comments                                           int64\n",
       "comments_insights                                  int64\n",
       "created_time                              datetime64[ns]\n",
       "description                                       object\n",
       "haha_reactions                                     int64\n",
       "hide_all_clicks                                    int64\n",
       "hide_clicks                                        int64\n",
       "id                                                object\n",
       "lifetime_average_time_video_viewed                 int64\n",
       "lifetime_engaged_users                             int64\n",
       "lifetime_organic_watches_at_95_percent             int64\n",
       "lifetime_paid_watches_at_95_percent                int64\n",
       "lifetime_post_consumers                            int64\n",
       "lifetime_post_consumptions                         int64\n",
       "lifetime_post_organic_impressions                  int64\n",
       "lifetime_post_organic_reach                        int64\n",
       "lifetime_post_paid_impressions                     int64\n",
       "lifetime_post_paid_reach                           int64\n",
       "lifetime_post_total_impressions                    int64\n",
       "lifetime_post_total_reach                          int64\n",
       "lifetime_total_10_second_views                     int64\n",
       "lifetime_total_video_view_time_in_ms               int64\n",
       "lifetime_total_video_views                         int64\n",
       "lifetime_unique_10_second_views                    int64\n",
       "lifetime_unique_video_views                        int64\n",
       "lifetime_video_length                              int64\n",
       "like_reactions                                     int64\n",
       "likes                                              int64\n",
       "link                                              object\n",
       "love_reactions                                     int64\n",
       "message                                           object\n",
       "permalink_url                                     object\n",
       "place                                             object\n",
       "reactions                                          int64\n",
       "shares                                             int64\n",
       "shares_insights                                    int64\n",
       "sorry_reactions                                    int64\n",
       "status_type                                       object\n",
       "type                                              object\n",
       "wow_reactions                                      int64\n",
       "created_date                                      object\n",
       "dtype: object"
      ]
     },
     "execution_count": 3,
     "metadata": {},
     "output_type": "execute_result"
    }
   ],
   "source": [
    "m.head()\n",
    "m.dtypes"
   ]
  },
  {
   "cell_type": "code",
   "execution_count": 5,
   "metadata": {
    "collapsed": false,
    "scrolled": true
   },
   "outputs": [
    {
     "name": "stdout",
     "output_type": "stream",
     "text": [
      "social_data.sixers_facebook is deleted.\n"
     ]
    }
   ],
   "source": [
    "creds = r\"C:\\Users\\kkhitalishvili\\Desktop\\sixopy2\\sixopy\\sixopy-test\\Denmark House Sales-c7bf498eeaeb.json\"\n",
    "# creds = \"Denmark House Sales-c7bf498eeaeb.json\"\n",
    "bq = bQ(creds)\n",
    "\n",
    "# bq.create_dataset('social_data')\n",
    "\n",
    "s = pd.io.json.build_table_schema(m,index=False)\n",
    "for d in s['fields']:\n",
    "    if d['type'] == 'number': d['type'] = 'float'\n",
    "s = [bigquery.SchemaField(p['name'].replace('(','').replace(')',''),p['type']) for p in s['fields']]\n",
    "s\n",
    "table = 'sixers_facebook'\n",
    "bq.delete_table('social_data',table)\n",
    "bq.create_table('social_data',table,schema = s)"
   ]
  },
  {
   "cell_type": "code",
   "execution_count": 6,
   "metadata": {
    "collapsed": false
   },
   "outputs": [
    {
     "name": "stdout",
     "output_type": "stream",
     "text": [
      "Loaded 1 row into social_data:sixers_facebook\n"
     ]
    }
   ],
   "source": [
    "m = m.replace({np.nan: None})\n",
    "bq.stream_data('social_data',table,m.to_dict('records'))"
   ]
  }
 ],
 "metadata": {
  "kernelspec": {
   "display_name": "Python 3",
   "language": "python",
   "name": "python3"
  },
  "language_info": {
   "codemirror_mode": {
    "name": "ipython",
    "version": 3
   },
   "file_extension": ".py",
   "mimetype": "text/x-python",
   "name": "python",
   "nbconvert_exporter": "python",
   "pygments_lexer": "ipython3",
   "version": "3.6.0"
  }
 },
 "nbformat": 4,
 "nbformat_minor": 0
}
